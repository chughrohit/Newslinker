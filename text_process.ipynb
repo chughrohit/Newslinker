{
  "nbformat": 4,
  "nbformat_minor": 0,
  "metadata": {
    "colab": {
      "name": "text_process.ipynb",
      "provenance": [],
      "collapsed_sections": [],
      "include_colab_link": true
    },
    "kernelspec": {
      "name": "python3",
      "display_name": "Python 3"
    }
  },
  "cells": [
    {
      "cell_type": "markdown",
      "metadata": {
        "id": "view-in-github",
        "colab_type": "text"
      },
      "source": [
        "<a href=\"https://colab.research.google.com/github/chughrohit/Newslinker/blob/master/text_process.ipynb\" target=\"_parent\"><img src=\"https://colab.research.google.com/assets/colab-badge.svg\" alt=\"Open In Colab\"/></a>"
      ]
    },
    {
      "cell_type": "code",
      "metadata": {
        "id": "O0W8THQlPvwm",
        "colab_type": "code",
        "outputId": "e1b34fea-8937-490c-b5d9-4b588d58217c",
        "colab": {
          "base_uri": "https://localhost:8080/",
          "height": 34
        }
      },
      "source": [
        "from google.colab import drive\n",
        "drive.mount('/content/drive')"
      ],
      "execution_count": 0,
      "outputs": [
        {
          "output_type": "stream",
          "text": [
            "Drive already mounted at /content/drive; to attempt to forcibly remount, call drive.mount(\"/content/drive\", force_remount=True).\n"
          ],
          "name": "stdout"
        }
      ]
    },
    {
      "cell_type": "code",
      "metadata": {
        "id": "OMuSWDBgP9XG",
        "colab_type": "code",
        "outputId": "762c82f5-84fd-4ae4-f995-4646fe263175",
        "colab": {
          "base_uri": "https://localhost:8080/",
          "height": 34
        }
      },
      "source": [
        "!pwd"
      ],
      "execution_count": 0,
      "outputs": [
        {
          "output_type": "stream",
          "text": [
            "/content\n"
          ],
          "name": "stdout"
        }
      ]
    },
    {
      "cell_type": "code",
      "metadata": {
        "id": "w518EGb5QARr",
        "colab_type": "code",
        "outputId": "c5c81ae3-8c8e-47a3-a221-9c55286aad88",
        "colab": {
          "base_uri": "https://localhost:8080/",
          "height": 34
        }
      },
      "source": [
        "!ls ./drive/My\\ Drive/CS255_Project/"
      ],
      "execution_count": 0,
      "outputs": [
        {
          "output_type": "stream",
          "text": [
            "CORD-19  __init__.py  PV_DBOW.txt  PV_DM.txt  __pycache__  text_process.ipynb\n"
          ],
          "name": "stdout"
        }
      ]
    },
    {
      "cell_type": "code",
      "metadata": {
        "id": "thSFX0KBQDAT",
        "colab_type": "code",
        "colab": {}
      },
      "source": [
        "import json\n",
        "from collections import defaultdict\n",
        "import gensim\n",
        "import pandas as pd\n",
        "import spacy\n",
        "from sklearn.feature_extraction.text import CountVectorizer\n",
        "from gensim.models.doc2vec import Doc2Vec, TaggedDocument\n",
        "import numpy as np\n",
        "import os\n",
        "import glob\n",
        "nlp = spacy.load('en', disable=['parser', 'ner'])"
      ],
      "execution_count": 0,
      "outputs": []
    },
    {
      "cell_type": "code",
      "metadata": {
        "id": "UyEMdWEERNby",
        "colab_type": "code",
        "colab": {}
      },
      "source": [
        "class textProcess:\n",
        "\n",
        "    def preprocessText(self, text):\n",
        "\n",
        "        text_gensim = ' '.join(gensim.utils.simple_preprocess(text, deacc=True))\n",
        "        text_obj = nlp(text_gensim)\n",
        "        text_lemma = [token.lemma_ for token in text_obj]\n",
        "        return ' '.join(text_lemma)\n",
        "\n",
        "    def createVocab(self, corpus, ngram_range=(1, 1)):\n",
        "\n",
        "        countVec = CountVectorizer(stop_words='english', ngram_range=ngram_range,\n",
        "                                   analyzer='word', strip_accents='unicode')\n",
        "        countVocab = countVec.fit(corpus)\n",
        "        return countVocab.vocabulary_\n",
        "\n",
        "    def generateDoc2Vec(self, articles, is_dbow=False, is_hs=False, embedding_dim=100, max_epochs=10, win=5, min_c=1, neg=5):\n",
        "\n",
        "        if is_dbow == True and is_hs == False:\n",
        "                d2v_model_name = \"PV-DBOW\"\n",
        "        elif is_dbow == False and is_hs == True:\n",
        "                d2v_model_name = \"PV-DM with hierarchical softmax\"\n",
        "        elif is_dbow == False and is_hs == False:\n",
        "                d2v_model_name = \"PV-DM with negative sampling\"\n",
        "        docTrain = []\n",
        "        for artl in articles:\n",
        "          docTrain.append(TaggedDocument(artl['words'], [artl['paper_id']]))\n",
        "        if is_dbow:\n",
        "                d2v_model = Doc2Vec(vector_size=embedding_dim, alpha=0.025, min_alpha=0.00025, window=win, min_count=min_c, workers=5, dm=0, dbow_words=0)\n",
        "        elif is_hs and not is_dbow:\n",
        "                d2v_model = Doc2Vec(vector_size=embedding_dim, alpha=0.025, min_alpha=0.00025, window=win, min_count=min_c, workers=5, dm=1,  hs=1, negative=neg, dm_mean=1, dm_concat=0)\n",
        "        elif not is_hs and not is_dbow:\n",
        "                d2v_model = Doc2Vec(vector_size=embedding_dim, alpha=0.025, min_alpha=0.00025, window=win, min_count=min_c, workers=5, dm=1,  hs=0, negative=neg, dm_mean=1, dm_concat=0)\n",
        "        d2v_model.build_vocab(docTrain)\n",
        "        print(\"Training Doc2Vec ({}) model on a corpus of {} articles\".format(d2v_model_name, d2v_model.corpus_count))\n",
        "        d2v_model.train(docTrain, total_examples=d2v_model.corpus_count, epochs=max_epochs)\n",
        "        print(\"{} dimensional document vectors generated using {}\".format(embedding_dim, d2v_model_name))\n",
        "        d2v_model.delete_temporary_training_data(keep_doctags_vectors=True, keep_inference=True)\n",
        "        return d2v_model\n"
      ],
      "execution_count": 0,
      "outputs": []
    },
    {
      "cell_type": "code",
      "metadata": {
        "id": "EohzyCSvR7q2",
        "colab_type": "code",
        "colab": {}
      },
      "source": [
        "data_path_arxiv = './drive/My Drive/CS255_Project/CORD-19/arxiv/arxiv/pdf_json/'\n",
        "data_path_bioarxiv = './drive/My Drive/CS255_Project/CORD-19/biorxiv_medrxiv/biorxiv_medrxiv/pdf_json/'\n",
        "arxiv_articles = []\n",
        "for fl in glob.glob(data_path_arxiv + \"*json\"):\n",
        "    arxiv_articles.append(json.load(open(fl, \"r\")))\n",
        "for fl in glob.glob(data_path_bioarxiv + \"*json\"):\n",
        "    arxiv_articles.append(json.load(open(fl, \"r\")))"
      ],
      "execution_count": 0,
      "outputs": []
    },
    {
      "cell_type": "code",
      "metadata": {
        "id": "LKALYuIkI6RI",
        "colab_type": "code",
        "outputId": "24c9d785-9158-49f3-9277-40b46dc26898",
        "colab": {
          "base_uri": "https://localhost:8080/",
          "height": 34
        }
      },
      "source": [
        "pd.DataFrame(arxiv_articles).paper_id.unique().shape"
      ],
      "execution_count": 0,
      "outputs": [
        {
          "output_type": "execute_result",
          "data": {
            "text/plain": [
              "(3457,)"
            ]
          },
          "metadata": {
            "tags": []
          },
          "execution_count": 11
        }
      ]
    },
    {
      "cell_type": "code",
      "metadata": {
        "id": "v3ssoq-AIod8",
        "colab_type": "code",
        "colab": {}
      },
      "source": [
        "textproc = textProcess()\n",
        "for artl in arxiv_articles:\n",
        "  body_text = ''\n",
        "  for text_json in artl['body_text']:\n",
        "    body_text += text_json['text']\n",
        "    body_text += \" \"\n",
        "  artl['preprocessedText'] = textproc.preprocessText(body_text)\n",
        "  artl['words'] = list(gensim.utils.simple_tokenize(artl['preprocessedText']))"
      ],
      "execution_count": 0,
      "outputs": []
    },
    {
      "cell_type": "code",
      "metadata": {
        "id": "4FK1cm9rXhUm",
        "colab_type": "code",
        "outputId": "06052453-9e35-4df3-a200-69af604ebc71",
        "colab": {
          "base_uri": "https://localhost:8080/",
          "height": 51
        }
      },
      "source": [
        "## PV-DBOW\n",
        "textproc = textProcess()\n",
        "PV_DBOW_arxiv = textproc.generateDoc2Vec(arxiv_articles, is_dbow=True)"
      ],
      "execution_count": 0,
      "outputs": [
        {
          "output_type": "stream",
          "text": [
            "Training Doc2Vec (PV-DBOW) model on a corpus of 3457 articles\n",
            "100 dimensional document vectors generated using PV-DBOW\n"
          ],
          "name": "stdout"
        }
      ]
    },
    {
      "cell_type": "code",
      "metadata": {
        "id": "7rSzY9HvX3eu",
        "colab_type": "code",
        "outputId": "015560fe-894b-4720-a1f3-eacaf8b01f00",
        "colab": {
          "base_uri": "https://localhost:8080/",
          "height": 51
        }
      },
      "source": [
        "## PV-DM\n",
        "\n",
        "PV_DM_arxiv = textproc.generateDoc2Vec(arxiv_articles, is_dbow=False)"
      ],
      "execution_count": 0,
      "outputs": [
        {
          "output_type": "stream",
          "text": [
            "Training Doc2Vec (PV-DM with negative sampling) model on a corpus of 3457 articles\n",
            "100 dimensional document vectors generated using PV-DM with negative sampling\n"
          ],
          "name": "stdout"
        }
      ]
    },
    {
      "cell_type": "code",
      "metadata": {
        "id": "zlEUsfSjVTEr",
        "colab_type": "code",
        "outputId": "4943204b-0f9e-493d-9a61-779e150c29fc",
        "colab": {
          "base_uri": "https://localhost:8080/",
          "height": 34
        }
      },
      "source": [
        "PV_DBOW_arxiv.docvecs.vectors_docs.shape"
      ],
      "execution_count": 0,
      "outputs": [
        {
          "output_type": "execute_result",
          "data": {
            "text/plain": [
              "(3457, 100)"
            ]
          },
          "metadata": {
            "tags": []
          },
          "execution_count": 20
        }
      ]
    },
    {
      "cell_type": "code",
      "metadata": {
        "id": "lFU738LY60Dt",
        "colab_type": "code",
        "outputId": "9b0b4b1e-36f5-44fc-fb1a-4bfa59faabf1",
        "colab": {
          "base_uri": "https://localhost:8080/",
          "height": 71
        }
      },
      "source": [
        "output_file=\"./drive/My Drive/CS255_Project/PV_DBOW.doc2vec\"\n",
        "PV_DBOW_arxiv.save(output_file)"
      ],
      "execution_count": 0,
      "outputs": [
        {
          "output_type": "stream",
          "text": [
            "/usr/local/lib/python3.6/dist-packages/smart_open/smart_open_lib.py:253: UserWarning: This function is deprecated, use smart_open.open instead. See the migration notes for details: https://github.com/RaRe-Technologies/smart_open/blob/master/README.rst#migrating-to-the-new-open-function\n",
            "  'See the migration notes for details: %s' % _MIGRATION_NOTES_URL\n"
          ],
          "name": "stderr"
        }
      ]
    },
    {
      "cell_type": "code",
      "metadata": {
        "id": "gwQ3yh54RNmL",
        "colab_type": "code",
        "outputId": "7acc0824-0706-428c-db38-f9f1047b358a",
        "colab": {
          "base_uri": "https://localhost:8080/",
          "height": 71
        }
      },
      "source": [
        "output_file2=\"./drive/My Drive/CS255_Project/PV_DM.doc2vec\"\n",
        "PV_DM_arxiv.save(output_file2)"
      ],
      "execution_count": 0,
      "outputs": [
        {
          "output_type": "stream",
          "text": [
            "/usr/local/lib/python3.6/dist-packages/smart_open/smart_open_lib.py:253: UserWarning: This function is deprecated, use smart_open.open instead. See the migration notes for details: https://github.com/RaRe-Technologies/smart_open/blob/master/README.rst#migrating-to-the-new-open-function\n",
            "  'See the migration notes for details: %s' % _MIGRATION_NOTES_URL\n"
          ],
          "name": "stderr"
        }
      ]
    },
    {
      "cell_type": "code",
      "metadata": {
        "id": "iRJBErzgcrmj",
        "colab_type": "code",
        "outputId": "48113bd1-f69a-402f-fedd-deec47457440",
        "colab": {
          "base_uri": "https://localhost:8080/",
          "height": 34
        }
      },
      "source": [
        "import os\n",
        "os.getcwd()"
      ],
      "execution_count": 0,
      "outputs": [
        {
          "output_type": "execute_result",
          "data": {
            "text/plain": [
              "'/content'"
            ]
          },
          "metadata": {
            "tags": []
          },
          "execution_count": 4
        }
      ]
    },
    {
      "cell_type": "code",
      "metadata": {
        "id": "hIVRLp75c2-9",
        "colab_type": "code",
        "outputId": "af498027-299f-4f5c-ee58-298b560dda11",
        "colab": {
          "base_uri": "https://localhost:8080/",
          "height": 34
        }
      },
      "source": [
        "!ls ."
      ],
      "execution_count": 0,
      "outputs": [
        {
          "output_type": "stream",
          "text": [
            "drive  sample_data\n"
          ],
          "name": "stdout"
        }
      ]
    },
    {
      "cell_type": "code",
      "metadata": {
        "id": "Xh8gHOnsqz0w",
        "colab_type": "code",
        "outputId": "254ccb48-7c15-4931-9eaf-aa1f901c40bb",
        "colab": {
          "base_uri": "https://localhost:8080/",
          "height": 71
        }
      },
      "source": [
        "from sklearn.cluster import KMeans\n",
        "from gensim.models.doc2vec import Doc2Vec, TaggedDocument\n",
        "km_model = KMeans(n_clusters=5)\n",
        "output_file=\"./drive/My Drive/CS255_Project/PV_DBOW.doc2vec\"\n",
        "model = Doc2Vec.load(output_file)\n",
        "X = km_model.fit(model.docvecs.vectors_docs)\n",
        "#vector = model.infer_vector([\"system\", \"response\"])"
      ],
      "execution_count": 0,
      "outputs": [
        {
          "output_type": "stream",
          "text": [
            "/usr/local/lib/python3.6/dist-packages/smart_open/smart_open_lib.py:253: UserWarning: This function is deprecated, use smart_open.open instead. See the migration notes for details: https://github.com/RaRe-Technologies/smart_open/blob/master/README.rst#migrating-to-the-new-open-function\n",
            "  'See the migration notes for details: %s' % _MIGRATION_NOTES_URL\n"
          ],
          "name": "stderr"
        }
      ]
    },
    {
      "cell_type": "code",
      "metadata": {
        "id": "Eb4Cms0eAj_9",
        "colab_type": "code",
        "outputId": "e6a4f84e-89f3-43c4-917a-8bdd66a7d1ae",
        "colab": {
          "base_uri": "https://localhost:8080/",
          "height": 34
        }
      },
      "source": [
        "model.docvecs.vectors_docs.shape"
      ],
      "execution_count": 0,
      "outputs": [
        {
          "output_type": "execute_result",
          "data": {
            "text/plain": [
              "(3457, 100)"
            ]
          },
          "metadata": {
            "tags": []
          },
          "execution_count": 26
        }
      ]
    },
    {
      "cell_type": "code",
      "metadata": {
        "id": "GUww-MredYYN",
        "colab_type": "code",
        "colab": {}
      },
      "source": [
        "labels=X.labels_.tolist()"
      ],
      "execution_count": 0,
      "outputs": []
    },
    {
      "cell_type": "code",
      "metadata": {
        "id": "rK7r_7Wm-dbT",
        "colab_type": "code",
        "outputId": "1caf69e2-5693-49fa-ef00-6cb248862f58",
        "colab": {
          "base_uri": "https://localhost:8080/",
          "height": 54
        }
      },
      "source": [
        "print(labels)"
      ],
      "execution_count": 0,
      "outputs": [
        {
          "output_type": "stream",
          "text": [
            "[1, 4, 2, 4, 4, 4, 4, 1, 4, 4, 3, 4, 1, 4, 4, 1, 1, 1, 4, 0, 0, 4, 4, 4, 4, 4, 4, 4, 4, 1, 4, 2, 4, 1, 4, 4, 4, 4, 2, 4, 2, 4, 4, 4, 4, 4, 4, 4, 2, 1, 4, 1, 4, 4, 1, 4, 1, 4, 2, 2, 4, 1, 1, 4, 4, 1, 4, 1, 1, 1, 4, 1, 1, 1, 1, 1, 4, 1, 4, 1, 2, 1, 4, 1, 3, 1, 4, 4, 1, 4, 1, 4, 4, 1, 4, 1, 4, 4, 1, 4, 4, 4, 4, 1, 1, 4, 1, 4, 1, 4, 2, 1, 4, 1, 4, 4, 4, 2, 4, 4, 1, 4, 4, 4, 4, 3, 4, 4, 4, 1, 4, 1, 4, 2, 4, 1, 4, 1, 4, 1, 4, 4, 1, 1, 1, 4, 4, 4, 4, 4, 4, 1, 1, 1, 0, 0, 4, 4, 1, 4, 4, 4, 4, 1, 4, 4, 4, 1, 2, 1, 1, 4, 4, 1, 4, 1, 1, 4, 4, 4, 4, 0, 3, 4, 1, 1, 4, 1, 4, 4, 4, 1, 1, 1, 4, 1, 4, 3, 1, 4, 4, 1, 0, 4, 4, 4, 4, 4, 4, 1, 1, 2, 1, 1, 4, 2, 4, 1, 4, 4, 4, 4, 1, 1, 4, 4, 4, 4, 4, 4, 4, 1, 1, 4, 4, 4, 2, 4, 1, 4, 1, 4, 4, 1, 4, 2, 4, 1, 4, 1, 4, 4, 2, 4, 4, 1, 4, 4, 4, 1, 4, 2, 4, 1, 4, 4, 4, 4, 4, 1, 4, 4, 4, 4, 1, 4, 4, 4, 4, 4, 2, 2, 4, 4, 4, 1, 4, 4, 1, 4, 1, 4, 4, 4, 1, 1, 4, 4, 4, 4, 1, 4, 4, 4, 1, 4, 4, 1, 4, 4, 4, 4, 1, 4, 4, 4, 4, 1, 4, 4, 0, 4, 4, 4, 2, 1, 4, 4, 4, 4, 4, 4, 2, 1, 4, 1, 1, 4, 1, 4, 4, 1, 4, 4, 1, 4, 4, 1, 1, 4, 4, 1, 1, 4, 4, 4, 1, 4, 4, 2, 4, 4, 1, 4, 4, 2, 4, 1, 2, 4, 4, 4, 4, 4, 4, 1, 4, 4, 4, 4, 1, 4, 4, 4, 2, 4, 4, 1, 1, 4, 4, 1, 4, 4, 4, 4, 4, 4, 1, 1, 4, 1, 2, 4, 1, 1, 1, 3, 0, 4, 1, 1, 1, 4, 4, 1, 2, 4, 4, 2, 4, 4, 1, 1, 1, 1, 4, 4, 4, 4, 2, 4, 1, 1, 1, 2, 4, 1, 1, 3, 4, 4, 1, 4, 1, 1, 1, 4, 4, 4, 4, 4, 4, 4, 1, 4, 4, 4, 1, 1, 4, 2, 2, 4, 1, 1, 4, 4, 2, 4, 1, 2, 4, 1, 1, 1, 4, 4, 1, 4, 1, 4, 4, 1, 4, 4, 3, 4, 1, 1, 2, 4, 1, 4, 4, 1, 1, 4, 2, 0, 1, 4, 4, 4, 4, 1, 4, 4, 1, 1, 4, 1, 4, 4, 4, 4, 4, 4, 4, 4, 4, 1, 1, 4, 2, 1, 4, 4, 4, 1, 4, 1, 4, 1, 4, 2, 1, 1, 1, 4, 1, 1, 4, 4, 4, 2, 3, 1, 1, 4, 4, 4, 2, 2, 2, 4, 4, 1, 1, 4, 4, 4, 4, 4, 4, 4, 4, 4, 2, 1, 1, 1, 4, 4, 1, 4, 4, 1, 4, 1, 1, 4, 1, 1, 1, 1, 1, 4, 2, 1, 4, 4, 1, 4, 4, 4, 1, 1, 4, 4, 4, 4, 2, 4, 4, 4, 1, 4, 1, 1, 1, 4, 4, 4, 4, 4, 4, 0, 2, 4, 2, 4, 4, 1, 4, 4, 1, 3, 1, 4, 4, 4, 1, 4, 1, 1, 4, 1, 4, 4, 1, 4, 4, 4, 1, 1, 4, 1, 4, 4, 1, 1, 1, 1, 4, 2, 4, 4, 1, 4, 4, 4, 2, 4, 1, 4, 3, 1, 4, 4, 4, 4, 4, 4, 4, 4, 1, 4, 4, 4, 2, 4, 4, 2, 4, 4, 4, 1, 1, 4, 4, 4, 4, 4, 1, 4, 1, 4, 1, 4, 1, 1, 1, 2, 4, 1, 1, 4, 1, 4, 4, 4, 1, 1, 4, 1, 1, 4, 1, 4, 4, 4, 4, 4, 1, 4, 4, 1, 4, 4, 1, 1, 4, 1, 1, 4, 1, 1, 1, 4, 4, 1, 2, 4, 1, 4, 1, 1, 4, 2, 4, 2, 1, 1, 4, 2, 2, 1, 1, 4, 4, 4, 4, 1, 1, 4, 1, 4, 1, 1, 2, 2, 3, 1, 1, 4, 4, 4, 4, 4, 4, 4, 4, 1, 4, 1, 4, 2, 4, 0, 4, 2, 0, 2, 4, 3, 4, 3, 0, 2, 4, 0, 2, 1, 1, 4, 2, 0, 1, 0, 1, 4, 0, 1, 2, 0, 0, 1, 4, 3, 1, 1, 0, 4, 4, 4, 0, 0, 0, 3, 0, 0, 4, 4, 2, 0, 0, 0, 0, 4, 3, 0, 4, 2, 1, 0, 4, 3, 4, 0, 4, 4, 0, 4, 3, 0, 4, 2, 2, 0, 0, 4, 4, 2, 4, 3, 1, 3, 4, 3, 4, 3, 4, 1, 3, 4, 4, 2, 1, 3, 1, 4, 3, 1, 0, 4, 1, 4, 0, 4, 4, 4, 4, 4, 3, 0, 2, 0, 0, 3, 1, 2, 3, 0, 4, 4, 3, 4, 4, 3, 2, 0, 0, 0, 1, 4, 4, 0, 4, 1, 2, 1, 0, 4, 4, 4, 4, 2, 0, 0, 2, 4, 3, 4, 0, 2, 4, 4, 2, 4, 1, 2, 3, 0, 1, 2, 2, 3, 3, 4, 4, 4, 4, 4, 3, 3, 3, 3, 4, 0, 3, 0, 2, 1, 3, 0, 1, 0, 2, 3, 1, 3, 0, 2, 3, 0, 4, 0, 3, 4, 3, 0, 3, 2, 3, 4, 3, 4, 2, 4, 4, 4, 4, 0, 0, 4, 4, 0, 4, 0, 4, 4, 4, 3, 1, 4, 4, 4, 0, 1, 3, 4, 3, 1, 0, 3, 4, 4, 1, 1, 4, 2, 0, 1, 1, 4, 4, 0, 0, 0, 3, 4, 0, 0, 0, 3, 0, 4, 0, 4, 3, 2, 2, 2, 2, 1, 2, 4, 0, 3, 0, 3, 4, 4, 2, 0, 3, 2, 3, 3, 2, 0, 4, 3, 4, 0, 2, 3, 4, 3, 0, 0, 0, 4, 4, 1, 3, 3, 4, 3, 1, 1, 1, 4, 3, 4, 1, 4, 3, 1, 1, 3, 2, 4, 4, 4, 0, 2, 2, 2, 0, 1, 0, 1, 0, 2, 0, 2, 3, 0, 1, 0, 1, 4, 0, 3, 4, 1, 0, 3, 4, 4, 0, 1, 4, 1, 3, 0, 4, 0, 4, 0, 4, 4, 4, 4, 0, 2, 1, 4, 1, 3, 2, 4, 4, 3, 3, 4, 2, 0, 2, 0, 4, 1, 1, 2, 4, 0, 4, 2, 4, 3, 3, 2, 2, 3, 2, 0, 4, 0, 4, 3, 1, 4, 4, 1, 4, 3, 4, 4, 4, 3, 0, 4, 4, 1, 3, 1, 4, 2, 0, 4, 4, 3, 4, 4, 4, 0, 1, 0, 3, 2, 2, 1, 1, 1, 0, 2, 4, 0, 1, 4, 2, 4, 3, 0, 4, 4, 0, 4, 3, 0, 0, 4, 1, 4, 2, 4, 4, 1, 2, 0, 4, 0, 0, 3, 2, 3, 4, 4, 0, 3, 4, 1, 0, 4, 3, 3, 2, 1, 0, 2, 2, 1, 1, 1, 3, 4, 0, 4, 0, 4, 1, 1, 4, 2, 4, 4, 4, 2, 4, 0, 4, 3, 3, 4, 0, 0, 0, 3, 4, 0, 3, 3, 4, 4, 1, 0, 2, 4, 1, 0, 0, 4, 0, 2, 4, 4, 3, 1, 0, 1, 0, 2, 2, 4, 2, 4, 3, 0, 0, 0, 2, 4, 4, 1, 3, 4, 0, 4, 0, 0, 4, 0, 2, 0, 2, 4, 1, 4, 3, 0, 1, 1, 0, 2, 2, 2, 1, 4, 2, 2, 4, 4, 3, 0, 2, 3, 0, 4, 1, 4, 1, 4, 2, 3, 2, 1, 4, 3, 1, 3, 2, 4, 4, 1, 0, 4, 2, 4, 2, 0, 3, 0, 0, 3, 2, 1, 0, 4, 4, 2, 0, 2, 0, 4, 2, 4, 4, 2, 3, 2, 0, 2, 4, 4, 1, 3, 0, 3, 4, 4, 1, 3, 1, 4, 2, 0, 2, 1, 2, 4, 4, 1, 2, 0, 1, 1, 0, 1, 2, 1, 4, 1, 2, 4, 0, 4, 1, 4, 0, 2, 4, 2, 2, 1, 4, 0, 1, 4, 0, 4, 4, 1, 2, 0, 4, 1, 3, 2, 0, 2, 2, 0, 0, 0, 0, 1, 0, 3, 4, 0, 4, 4, 0, 2, 2, 1, 4, 4, 4, 4, 0, 4, 0, 4, 0, 4, 4, 4, 1, 0, 2, 1, 4, 1, 4, 0, 2, 1, 4, 4, 4, 0, 4, 4, 4, 4, 1, 3, 2, 4, 2, 3, 0, 1, 3, 2, 1, 0, 4, 0, 4, 3, 0, 0, 0, 4, 4, 3, 1, 2, 3, 4, 3, 4, 1, 3, 4, 0, 2, 2, 1, 4, 0, 0, 2, 4, 2, 1, 4, 3, 2, 4, 4, 3, 4, 1, 1, 2, 3, 3, 4, 2, 0, 4, 4, 4, 4, 4, 4, 4, 3, 0, 1, 4, 4, 4, 3, 4, 4, 4, 3, 4, 0, 0, 3, 1, 3, 4, 3, 2, 2, 2, 3, 1, 1, 4, 2, 4, 4, 2, 4, 1, 4, 4, 4, 1, 4, 0, 0, 3, 3, 0, 4, 3, 4, 4, 3, 0, 4, 3, 3, 0, 2, 4, 4, 3, 4, 4, 2, 2, 2, 1, 0, 4, 2, 4, 4, 4, 1, 4, 0, 4, 2, 1, 3, 4, 4, 4, 4, 4, 0, 3, 1, 1, 0, 3, 4, 4, 0, 2, 0, 4, 3, 0, 4, 4, 1, 1, 4, 4, 0, 2, 0, 2, 4, 2, 4, 4, 3, 4, 1, 0, 4, 2, 4, 1, 4, 1, 3, 4, 4, 2, 4, 0, 4, 0, 3, 0, 4, 0, 1, 4, 3, 4, 4, 4, 4, 2, 1, 2, 2, 3, 3, 4, 2, 1, 0, 4, 1, 3, 1, 3, 1, 3, 1, 3, 0, 2, 1, 3, 4, 4, 3, 2, 4, 1, 4, 4, 4, 1, 0, 3, 2, 2, 4, 1, 1, 4, 0, 0, 3, 4, 3, 2, 0, 4, 0, 0, 4, 4, 4, 2, 1, 4, 2, 3, 0, 3, 2, 2, 3, 4, 4, 2, 1, 4, 4, 3, 3, 3, 1, 0, 0, 4, 1, 4, 0, 3, 3, 3, 4, 0, 4, 4, 2, 3, 4, 0, 0, 4, 2, 4, 3, 1, 4, 1, 3, 1, 2, 3, 4, 3, 0, 4, 3, 1, 4, 2, 4, 0, 0, 3, 3, 3, 4, 4, 3, 3, 4, 0, 4, 0, 2, 3, 4, 2, 1, 4, 4, 3, 4, 4, 1, 2, 2, 2, 4, 4, 4, 2, 0, 3, 1, 4, 1, 4, 1, 4, 4, 4, 4, 4, 2, 4, 2, 4, 4, 4, 2, 3, 3, 2, 4, 0, 4, 4, 4, 2, 4, 2, 4, 0, 4, 4, 0, 0, 1, 4, 1, 0, 4, 2, 3, 3, 1, 4, 0, 1, 2, 1, 4, 1, 1, 1, 3, 4, 4, 4, 1, 4, 0, 1, 4, 2, 3, 3, 4, 1, 4, 4, 4, 4, 2, 3, 0, 0, 0, 1, 3, 3, 1, 4, 0, 3, 4, 4, 4, 0, 0, 3, 1, 0, 0, 1, 2, 0, 1, 2, 4, 4, 1, 1, 2, 2, 1, 3, 2, 0, 0, 1, 0, 4, 0, 2, 4, 4, 0, 4, 2, 3, 1, 0, 4, 3, 1, 4, 4, 0, 2, 4, 4, 2, 4, 3, 3, 3, 4, 4, 0, 1, 0, 4, 3, 1, 2, 3, 3, 1, 4, 1, 0, 1, 2, 3, 2, 4, 3, 1, 4, 2, 2, 4, 4, 1, 0, 2, 0, 0, 0, 3, 3, 4, 0, 4, 4, 1, 2, 1, 4, 4, 2, 2, 3, 4, 2, 1, 4, 0, 0, 4, 1, 4, 4, 3, 2, 4, 3, 1, 4, 0, 3, 1, 4, 2, 3, 0, 2, 2, 4, 4, 3, 1, 3, 4, 1, 0, 4, 4, 1, 2, 3, 4, 2, 0, 3, 3, 0, 1, 0, 4, 4, 2, 3, 4, 2, 4, 3, 4, 3, 4, 3, 4, 0, 4, 2, 4, 1, 0, 3, 3, 4, 1, 0, 2, 0, 4, 0, 0, 0, 4, 0, 1, 2, 3, 4, 2, 0, 3, 1, 4, 3, 0, 1, 3, 3, 0, 1, 4, 0, 0, 0, 3, 4, 4, 3, 3, 2, 2, 4, 1, 2, 0, 4, 3, 4, 4, 0, 4, 4, 1, 4, 4, 1, 4, 4, 4, 4, 0, 0, 3, 3, 4, 4, 1, 3, 1, 2, 3, 2, 0, 1, 4, 2, 4, 4, 3, 3, 3, 0, 0, 0, 4, 4, 4, 3, 4, 3, 0, 4, 3, 4, 0, 1, 1, 3, 0, 2, 2, 2, 2, 4, 1, 2, 1, 4, 0, 0, 3, 0, 4, 2, 4, 0, 0, 3, 4, 0, 0, 4, 3, 2, 1, 0, 3, 0, 4, 1, 0, 2, 4, 0, 4, 4, 4, 4, 0, 4, 4, 3, 0, 1, 1, 2, 3, 4, 4, 4, 0, 2, 3, 4, 2, 4, 4, 3, 2, 4, 3, 1, 1, 4, 2, 4, 3, 1, 0, 4, 4, 4, 4, 4, 2, 0, 1, 2, 3, 0, 0, 4, 4, 0, 4, 0, 0, 3, 4, 0, 4, 1, 0, 0, 4, 4, 3, 2, 0, 2, 0, 4, 0, 2, 1, 0, 3, 4, 4, 4, 0, 0, 1, 1, 4, 2, 3, 2, 4, 0, 2, 3, 3, 1, 3, 0, 2, 1, 3, 2, 0, 4, 0, 4, 0, 4, 3, 2, 4, 1, 1, 1, 0, 1, 4, 3, 0, 2, 4, 3, 0, 4, 1, 0, 1, 3, 2, 3, 4, 0, 2, 0, 4, 3, 2, 1, 2, 4, 3, 3, 4, 1, 4, 0, 2, 4, 3, 2, 0, 4, 4, 4, 4, 4, 2, 4, 3, 3, 0, 1, 1, 2, 2, 0, 1, 2, 1, 0, 0, 2, 3, 3, 4, 1, 4, 2, 2, 3, 0, 1, 2, 2, 4, 2, 3, 3, 2, 1, 0, 4, 3, 3, 3, 2, 4, 1, 2, 4, 1, 3, 1, 1, 0, 0, 4, 0, 4, 2, 0, 4, 0, 3, 3, 0, 3, 1, 1, 4, 3, 0, 1, 4, 3, 1, 3, 4, 4, 0, 2, 0, 1, 2, 2, 3, 1, 0, 0, 4, 4, 0, 2, 1, 4, 3, 4, 4, 4, 1, 2, 4, 4, 3, 2, 0, 4, 2, 3, 2, 4, 3, 4, 0, 2, 3, 2, 2, 1, 2, 4, 1, 3, 0, 3, 4, 2, 4, 0, 4, 3, 4, 2, 2, 4, 1, 1, 2, 0, 3, 0, 4, 4, 1, 1, 2, 4, 3, 4, 1, 0, 4, 4, 2, 4, 3, 4, 3, 4, 2, 4, 4, 4, 0, 4, 0, 3, 2, 0, 1, 2, 0, 4, 3, 1, 2, 0, 0, 0, 4, 4, 3, 4, 4, 0, 2, 4, 0, 3, 2, 1, 0, 4, 2, 2, 2, 4, 2, 2, 4, 1, 0, 4, 1, 3, 2, 3, 4, 0, 3, 2, 3, 3, 3, 0, 0, 4, 4, 0, 1, 0, 4, 3, 1, 3, 4, 4, 4, 0, 0, 2, 1, 4, 4, 1, 1, 3, 4, 0, 3, 0, 3, 4, 1, 4, 3, 4, 2, 3, 1, 0, 3, 4, 1, 3, 3, 4, 2, 4, 1, 0, 2, 3, 1, 3, 0, 4, 4, 0, 2, 2, 2, 1, 0, 4, 3, 0, 3, 2, 1, 4, 0, 3, 3, 1, 0, 4, 4, 3, 1, 4, 4, 3, 0, 4, 1, 0, 2, 1, 2, 2, 0, 0, 0, 3, 0, 1, 0, 0, 1, 4, 4, 0, 3, 3, 1, 4, 3, 0, 1, 4, 4, 4, 0, 2, 0, 3, 1, 2, 4, 1, 1, 1, 4, 4, 4, 2, 0, 1, 3, 4, 1, 0, 0, 3, 4, 0, 1, 1, 0, 4, 2, 4, 4, 4, 0, 2, 4, 4, 0, 0, 4, 3, 3, 1, 1, 4, 1, 0, 2, 3, 4, 2, 4, 4, 2, 1, 4, 2, 1, 0, 4, 3, 4, 0, 0, 1, 1, 2, 4, 1, 3, 4, 2, 2, 2, 1, 0, 4, 2, 0, 4, 4, 0, 3, 2, 2, 0, 3, 3, 2, 0, 0, 4, 3, 3, 1, 0, 0, 0, 0, 1, 0, 2, 4, 4, 3, 4, 2, 0, 2, 4, 4, 4, 0, 1, 0, 4, 2, 4, 4, 3, 4, 2, 3, 2, 4, 2, 1, 0, 4, 0, 0, 0, 0, 2, 3, 4, 4, 1, 1, 3, 1, 4, 4, 2, 4, 0, 0, 0, 4, 1, 0, 1, 0, 4, 2, 4, 0, 1, 3, 4, 3, 0, 4, 2, 2, 4, 1, 4, 1, 4, 4, 4, 3, 4, 4, 3, 3, 4, 4, 4, 3, 1, 2, 1, 3, 3, 1, 3, 2, 0, 0, 4, 4, 4, 4, 2, 3, 4, 1, 1, 4, 4, 3, 0, 4, 2, 3, 3, 3, 0, 2, 4, 4, 3, 2, 2, 2, 4, 3, 4, 3, 4, 0, 4, 3, 2, 4, 4, 3, 4, 2, 4, 3, 2, 4, 3, 1, 3, 4, 3, 2, 4, 4, 2, 0, 3, 4, 4, 4, 2, 4, 2, 2, 4, 0, 1, 4, 4, 4, 4, 3, 4, 4, 2, 3, 4, 1, 4, 4, 3, 3, 1, 2, 4, 2, 4, 1, 1, 4, 4, 1, 1, 4, 2, 1, 0, 4, 4, 4, 0, 4, 3, 4, 4, 2, 2, 0, 1, 4, 4, 4, 4, 3, 2, 4, 4, 4, 0, 2, 0, 0, 1, 3, 0, 3, 4, 4, 2, 4, 2, 2, 3, 2, 1, 0, 1, 3, 4, 4, 3, 0, 0, 4, 3, 4, 4, 0, 0, 0, 0, 4, 2, 4, 1, 4, 0, 0, 3, 4, 3, 3, 0, 3, 3, 2, 4, 1, 4, 1, 2, 4, 4, 3, 0, 0, 4, 0, 1, 4, 4, 2, 0, 4, 1, 0, 0, 1, 4, 1, 0, 1, 4, 4, 4, 2, 2, 0, 0, 4, 4, 1, 4, 3, 4, 4, 0, 4, 4, 0, 1, 0, 1, 3, 3, 2, 4, 1, 4, 4, 4, 3, 4, 4, 3, 3, 4, 0, 4, 3, 4, 3, 4, 0, 2, 1, 4, 1, 2, 1, 4, 0, 1, 4, 2, 4, 2, 4, 4, 4, 4, 1, 2, 0, 3, 0, 4, 2, 4, 1, 3, 4, 0, 2, 0, 4, 4, 2, 0, 1, 1, 1, 1, 4, 0, 4, 4, 4, 0, 4, 4, 4, 4, 1, 0, 2, 3, 3, 0, 4, 0, 2, 1, 0, 4, 3, 0, 0, 3, 3, 4, 3, 2, 1, 4, 3, 2, 4, 1, 4, 4, 4, 4, 0, 3, 4, 2, 4, 4, 0, 2, 2, 3, 0, 2, 4, 3, 2, 2, 2, 4, 1, 0, 0, 3, 4, 4, 2, 0, 0, 4, 4, 4, 0, 2, 0, 2, 2, 1, 2, 0, 4, 4, 4, 3, 2, 1, 4, 3, 2, 4, 0, 1, 0, 0, 4, 1, 3, 4, 4, 0, 1, 1, 4, 3, 0, 4, 3, 0, 3, 2, 4, 0, 0, 4, 4, 4, 3, 4, 2, 1, 4, 0, 4, 4, 4, 4, 1, 3, 2, 4, 4, 4, 2, 3, 0, 0, 4, 3, 3, 2, 4, 0, 3, 4, 0, 3, 4, 0, 0, 3, 3, 4, 4, 2, 0, 1, 1, 3, 2, 3, 4, 4, 2, 4, 2, 2, 4, 0, 4, 4, 4, 3, 0, 4, 4, 0, 3, 2, 3, 4, 4, 0, 4, 2, 4, 2, 0, 3, 3, 0, 2, 3, 3, 1, 3, 3, 0, 1, 2, 4, 3, 0, 1, 4, 2, 4, 0, 0, 3, 3, 3, 3, 0, 2, 4, 0, 0, 4, 4, 0, 2, 1, 0, 4, 4, 2, 4, 0, 4, 0, 1, 4, 1, 0, 4, 4, 1, 2, 1, 4, 3, 4, 3, 3, 2, 4, 4, 1, 4, 1, 0, 0, 4, 4, 3, 2, 2, 3, 3, 3, 4, 2, 0, 4, 2, 4, 1, 3, 3, 4, 1, 1, 4, 1, 3, 2, 4, 4, 4, 2, 0, 0, 3, 3, 1, 2, 0, 4, 0, 0, 3, 0, 3, 4, 2, 4, 4, 1, 4, 0, 3, 4, 3, 3, 4, 2, 4, 4]\n"
          ],
          "name": "stdout"
        }
      ]
    },
    {
      "cell_type": "code",
      "metadata": {
        "id": "2u96QiDZaPBX",
        "colab_type": "code",
        "colab": {}
      },
      "source": [
        ""
      ],
      "execution_count": 0,
      "outputs": []
    }
  ]
}